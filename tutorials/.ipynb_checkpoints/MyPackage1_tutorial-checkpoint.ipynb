{
 "cells": [
  {
   "cell_type": "markdown",
   "id": "b611b96d",
   "metadata": {},
   "source": [
    "# Tutorial for the MyPackage 1 package\n",
    "\n",
    "Note -- the first cell needs to be in markdown, and need a level 1 header (eg. # Title)"
   ]
  },
  {
   "cell_type": "code",
   "execution_count": 1,
   "id": "5868a49f",
   "metadata": {},
   "outputs": [
    {
     "name": "stdout",
     "output_type": "stream",
     "text": [
      "loading MyPackage1\n"
     ]
    }
   ],
   "source": [
    "import MyPackage1 as m\n",
    "import numpy as np\n",
    "import matplotlib.pyplot as plt"
   ]
  },
  {
   "cell_type": "markdown",
   "id": "8e554acf",
   "metadata": {},
   "source": [
    "## Example 1: how to create and call a dog\n",
    "\n",
    "In this example, we will use ....\n",
    "\n",
    "Note, the html and math in the markdown cell will render in sphinx as well: $\\alpha = \\frac{1}{2}$\n",
    "\n",
    "With if the notebook are not in the main documentation source directory, embedded material like video and images needs to be handeled by nbsphinx-link package."
   ]
  },
  {
   "cell_type": "code",
   "execution_count": 2,
   "id": "0cfe0efe",
   "metadata": {},
   "outputs": [
    {
     "name": "stdout",
     "output_type": "stream",
     "text": [
      "Come here, Fido!!\n"
     ]
    }
   ],
   "source": [
    "# Creating the dog\n",
    "MyDog = m.MyModule1.dog('Fido', 'Terrier')\n",
    "\n",
    "# Calling the dog\n",
    "MyDog.call()"
   ]
  },
  {
   "cell_type": "markdown",
   "id": "46f4b266",
   "metadata": {},
   "source": [
    "## Example 2: demonstrating graphs\n",
    "\n",
    "The header structure in the markdown cells will be use by sphinx to create side-bar links"
   ]
  },
  {
   "cell_type": "code",
   "execution_count": 3,
   "id": "a932e966",
   "metadata": {},
   "outputs": [
    {
     "data": {
      "text/plain": [
       "(-1.0, 1.0)"
      ]
     },
     "execution_count": 3,
     "metadata": {},
     "output_type": "execute_result"
    },
    {
     "data": {
      "image/png": "[encoded data removed]",
      "text/plain": [
       "<Figure size 432x288 with 1 Axes>"
      ]
     },
     "metadata": {
      "needs_background": "light"
     },
     "output_type": "display_data"
    }
   ],
   "source": [
    "fig, ax = plt.subplots(1,1)\n",
    "\n",
    "ax.scatter([0],[0], s=50)\n",
    "ax.set_xlim(-1,1)\n",
    "ax.set_ylim(-1,1)"
   ]
  },
  {
   "cell_type": "code",
   "execution_count": null,
   "id": "ccfb51cf",
   "metadata": {},
   "outputs": [],
   "source": []
  }
 ],
 "metadata": {
  "kernelspec": {
   "display_name": "Python 3",
   "language": "python",
   "name": "python3"
  },
  "language_info": {
   "codemirror_mode": {
    "name": "ipython",
    "version": 3
   },
   "file_extension": ".py",
   "mimetype": "text/x-python",
   "name": "python",
   "nbconvert_exporter": "python",
   "pygments_lexer": "ipython3",
   "version": "3.8.8"
  }
 },
 "nbformat": 4,
 "nbformat_minor": 5
}
